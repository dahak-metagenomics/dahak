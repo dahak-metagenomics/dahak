{
 "cells": [
  {
   "cell_type": "markdown",
   "metadata": {},
   "source": [
    "**Summary**: \n",
    "\n",
    "for i in $(cat prokka_tsv_names.txt)\n",
    "do \n",
    "    osf -u philliptbrooks@gmail.com \\\n",
    "        -p dm938 \\\n",
    "        fetch osfstorage/functional_inference/contig_annotations/${i} ${PWD}/${i} \n",
    "    echo ${i}\n",
    "done"
   ]
  },
  {
   "cell_type": "code",
   "execution_count": 1,
   "metadata": {
    "collapsed": true
   },
   "outputs": [],
   "source": [
    "#Import matplotlib in line \n",
    "%matplotlib inline"
   ]
  },
  {
   "cell_type": "code",
   "execution_count": 2,
   "metadata": {
    "collapsed": true
   },
   "outputs": [],
   "source": [
    "#Import pandas pyplot \n",
    "import pandas as pd \n",
    "import matplotlib.pyplot as plt"
   ]
  },
  {
   "cell_type": "code",
   "execution_count": 3,
   "metadata": {},
   "outputs": [
    {
     "name": "stdout",
     "output_type": "stream",
     "text": [
      "Assembly_stats_comparison.csv\r\n",
      "README.md\r\n",
      "bandage_output_megahit_100.png\r\n",
      "\u001b[1m\u001b[34mmegahit_output_podar_metaG_100_quast_report\u001b[m\u001b[m/\r\n",
      "\u001b[1m\u001b[34mmegahit_output_podar_metaG_sub_10_quast_report\u001b[m\u001b[m/\r\n",
      "\u001b[1m\u001b[34mmegahit_output_podar_metaG_sub_25_quast_report\u001b[m\u001b[m/\r\n",
      "\u001b[1m\u001b[34mmegahit_output_podar_metaG_sub_50_quast_report\u001b[m\u001b[m/\r\n",
      "\u001b[1m\u001b[34mmegahit_salmon_counts_podar_100\u001b[m\u001b[m/\r\n",
      "metagenome_assembly_comparison.ipynb\r\n",
      "\u001b[1m\u001b[34mspades_output_podar_metaG_100_quast_report\u001b[m\u001b[m/\r\n",
      "\u001b[1m\u001b[34mspades_output_podar_metaG_50_quast_report\u001b[m\u001b[m/\r\n",
      "\u001b[1m\u001b[34mspades_output_podar_metaG_sub_10_quast_report\u001b[m\u001b[m/\r\n",
      "\u001b[1m\u001b[34mspades_output_podar_metaG_sub_25_quast_report\u001b[m\u001b[m/\r\n",
      "\u001b[1m\u001b[34mspades_salmon_counts_podar_100\u001b[m\u001b[m/\r\n"
     ]
    }
   ],
   "source": []
  },
  {
   "cell_type": "code",
   "execution_count": 4,
   "metadata": {
    "collapsed": true
   },
   "outputs": [],
   "source": [
    "# Read in CSVs\n",
    "dfA = pd.read_csv('megahit_output_podar_metaG_100_quast_report/transposed_report.tsv', sep='\\t', header = 0)\n",
    "dfB = pd.read_csv('spades_output_podar_metaG_100_quast_report/transposed_report.tsv', sep='\\t', header = 0)\n",
    "dfC = pd.read_csv('megahit_output_podar_metaG_sub_50_quast_report/transposed_report.tsv', sep='\\t', header = 0)\n",
    "dfD = pd.read_csv('spades_output_podar_metaG_50_quast_report/transposed_report.tsv', sep='\\t', header = 0)\n",
    "dfE = pd.read_csv('megahit_output_podar_metaG_sub_25_quast_report/transposed_report.tsv', sep='\\t', header = 0)\n",
    "dfF = pd.read_csv('spades_output_podar_metaG_sub_25_quast_report/transposed_report.tsv', sep='\\t', header = 0)\n",
    "dfG = pd.read_csv('megahit_output_podar_metaG_sub_10_quast_report/transposed_report.tsv', sep='\\t', header = 0)\n",
    "dfH = pd.read_csv('spades_output_podar_metaG_sub_10_quast_report/transposed_report.tsv', sep='\\t', header = 0)"
   ]
  },
  {
   "cell_type": "code",
   "execution_count": 5,
   "metadata": {},
   "outputs": [
    {
     "data": {
      "text/html": [
       "<div>\n",
       "<table border=\"1\" class=\"dataframe\">\n",
       "  <thead>\n",
       "    <tr style=\"text-align: right;\">\n",
       "      <th></th>\n",
       "      <th>Assembly</th>\n",
       "      <th># contigs (&gt;= 0 bp)</th>\n",
       "      <th># contigs (&gt;= 1000 bp)</th>\n",
       "      <th># contigs (&gt;= 5000 bp)</th>\n",
       "      <th># contigs (&gt;= 10000 bp)</th>\n",
       "      <th># contigs (&gt;= 25000 bp)</th>\n",
       "      <th># contigs (&gt;= 50000 bp)</th>\n",
       "      <th>Total length (&gt;= 0 bp)</th>\n",
       "      <th>Total length (&gt;= 1000 bp)</th>\n",
       "      <th>Total length (&gt;= 5000 bp)</th>\n",
       "      <th>...</th>\n",
       "      <th>Total length (&gt;= 50000 bp)</th>\n",
       "      <th># contigs</th>\n",
       "      <th>Largest contig</th>\n",
       "      <th>Total length</th>\n",
       "      <th>GC (%)</th>\n",
       "      <th>N50</th>\n",
       "      <th>N75</th>\n",
       "      <th>L50</th>\n",
       "      <th>L75</th>\n",
       "      <th># N's per 100 kbp</th>\n",
       "    </tr>\n",
       "    <tr>\n",
       "      <th>names</th>\n",
       "      <th></th>\n",
       "      <th></th>\n",
       "      <th></th>\n",
       "      <th></th>\n",
       "      <th></th>\n",
       "      <th></th>\n",
       "      <th></th>\n",
       "      <th></th>\n",
       "      <th></th>\n",
       "      <th></th>\n",
       "      <th></th>\n",
       "      <th></th>\n",
       "      <th></th>\n",
       "      <th></th>\n",
       "      <th></th>\n",
       "      <th></th>\n",
       "      <th></th>\n",
       "      <th></th>\n",
       "      <th></th>\n",
       "      <th></th>\n",
       "      <th></th>\n",
       "    </tr>\n",
       "  </thead>\n",
       "  <tbody>\n",
       "    <tr>\n",
       "      <th>Megahit_Shakya_Full</th>\n",
       "      <td>final.contigs</td>\n",
       "      <td>25029</td>\n",
       "      <td>14831</td>\n",
       "      <td>6031</td>\n",
       "      <td>3462</td>\n",
       "      <td>1693</td>\n",
       "      <td>859</td>\n",
       "      <td>203649893</td>\n",
       "      <td>198135753</td>\n",
       "      <td>177197479</td>\n",
       "      <td>...</td>\n",
       "      <td>102472583</td>\n",
       "      <td>19841</td>\n",
       "      <td>1067762</td>\n",
       "      <td>201670522</td>\n",
       "      <td>51.43</td>\n",
       "      <td>51470</td>\n",
       "      <td>13245</td>\n",
       "      <td>827</td>\n",
       "      <td>2774</td>\n",
       "      <td>0.0</td>\n",
       "    </tr>\n",
       "    <tr>\n",
       "      <th>SPAdes_Shakya_Full</th>\n",
       "      <td>contigs</td>\n",
       "      <td>28005</td>\n",
       "      <td>13955</td>\n",
       "      <td>5455</td>\n",
       "      <td>3187</td>\n",
       "      <td>1543</td>\n",
       "      <td>861</td>\n",
       "      <td>200949060</td>\n",
       "      <td>195267555</td>\n",
       "      <td>174994373</td>\n",
       "      <td>...</td>\n",
       "      <td>109622618</td>\n",
       "      <td>18162</td>\n",
       "      <td>1599574</td>\n",
       "      <td>198291683</td>\n",
       "      <td>51.49</td>\n",
       "      <td>62753</td>\n",
       "      <td>14848</td>\n",
       "      <td>673</td>\n",
       "      <td>2335</td>\n",
       "      <td>0.0</td>\n",
       "    </tr>\n",
       "    <tr>\n",
       "      <th>MegaHit_Shakya_Subset_50</th>\n",
       "      <td>final.contigs</td>\n",
       "      <td>40294</td>\n",
       "      <td>21154</td>\n",
       "      <td>6153</td>\n",
       "      <td>3329</td>\n",
       "      <td>1502</td>\n",
       "      <td>705</td>\n",
       "      <td>198523578</td>\n",
       "      <td>187734386</td>\n",
       "      <td>154679774</td>\n",
       "      <td>...</td>\n",
       "      <td>79362820</td>\n",
       "      <td>31471</td>\n",
       "      <td>1063575</td>\n",
       "      <td>195102189</td>\n",
       "      <td>51.07</td>\n",
       "      <td>31786</td>\n",
       "      <td>6630</td>\n",
       "      <td>1165</td>\n",
       "      <td>4699</td>\n",
       "      <td>0.0</td>\n",
       "    </tr>\n",
       "    <tr>\n",
       "      <th>SPAdes_Shakya_Subset_50</th>\n",
       "      <td>contigs</td>\n",
       "      <td>44943</td>\n",
       "      <td>19672</td>\n",
       "      <td>5573</td>\n",
       "      <td>3131</td>\n",
       "      <td>1467</td>\n",
       "      <td>745</td>\n",
       "      <td>197860387</td>\n",
       "      <td>186428185</td>\n",
       "      <td>155475173</td>\n",
       "      <td>...</td>\n",
       "      <td>87152748</td>\n",
       "      <td>29080</td>\n",
       "      <td>1154114</td>\n",
       "      <td>193179362</td>\n",
       "      <td>51.16</td>\n",
       "      <td>40111</td>\n",
       "      <td>7735</td>\n",
       "      <td>957</td>\n",
       "      <td>3853</td>\n",
       "      <td>0.0</td>\n",
       "    </tr>\n",
       "    <tr>\n",
       "      <th>MegaHit_Shakya_Subset_25</th>\n",
       "      <td>final.contigs</td>\n",
       "      <td>76301</td>\n",
       "      <td>30326</td>\n",
       "      <td>5529</td>\n",
       "      <td>2589</td>\n",
       "      <td>893</td>\n",
       "      <td>389</td>\n",
       "      <td>182471352</td>\n",
       "      <td>157052834</td>\n",
       "      <td>106971166</td>\n",
       "      <td>...</td>\n",
       "      <td>43343403</td>\n",
       "      <td>54078</td>\n",
       "      <td>708009</td>\n",
       "      <td>173832988</td>\n",
       "      <td>50.27</td>\n",
       "      <td>9928</td>\n",
       "      <td>2349</td>\n",
       "      <td>2612</td>\n",
       "      <td>12592</td>\n",
       "      <td>0.0</td>\n",
       "    </tr>\n",
       "    <tr>\n",
       "      <th>SPAdes_Shakya_Subset_25</th>\n",
       "      <td>contigs</td>\n",
       "      <td>95353</td>\n",
       "      <td>29638</td>\n",
       "      <td>5383</td>\n",
       "      <td>2488</td>\n",
       "      <td>905</td>\n",
       "      <td>381</td>\n",
       "      <td>187469894</td>\n",
       "      <td>157123594</td>\n",
       "      <td>108377446</td>\n",
       "      <td>...</td>\n",
       "      <td>46312125</td>\n",
       "      <td>53676</td>\n",
       "      <td>726297</td>\n",
       "      <td>174094973</td>\n",
       "      <td>50.30</td>\n",
       "      <td>10506</td>\n",
       "      <td>2372</td>\n",
       "      <td>2357</td>\n",
       "      <td>12018</td>\n",
       "      <td>0.0</td>\n",
       "    </tr>\n",
       "    <tr>\n",
       "      <th>MegaHit_Shakya_Subset_10</th>\n",
       "      <td>final.contigs</td>\n",
       "      <td>108780</td>\n",
       "      <td>24962</td>\n",
       "      <td>3182</td>\n",
       "      <td>1233</td>\n",
       "      <td>326</td>\n",
       "      <td>107</td>\n",
       "      <td>127510334</td>\n",
       "      <td>84162742</td>\n",
       "      <td>43820080</td>\n",
       "      <td>...</td>\n",
       "      <td>9239419</td>\n",
       "      <td>61521</td>\n",
       "      <td>258402</td>\n",
       "      <td>109369857</td>\n",
       "      <td>49.68</td>\n",
       "      <td>2895</td>\n",
       "      <td>1065</td>\n",
       "      <td>6091</td>\n",
       "      <td>22892</td>\n",
       "      <td>0.0</td>\n",
       "    </tr>\n",
       "    <tr>\n",
       "      <th>SPAdes_Shakya_Subset_10</th>\n",
       "      <td>contigs</td>\n",
       "      <td>175588</td>\n",
       "      <td>26044</td>\n",
       "      <td>3110</td>\n",
       "      <td>1284</td>\n",
       "      <td>345</td>\n",
       "      <td>114</td>\n",
       "      <td>149097425</td>\n",
       "      <td>86600130</td>\n",
       "      <td>44629318</td>\n",
       "      <td>...</td>\n",
       "      <td>10228486</td>\n",
       "      <td>66655</td>\n",
       "      <td>335357</td>\n",
       "      <td>114498408</td>\n",
       "      <td>49.64</td>\n",
       "      <td>2672</td>\n",
       "      <td>1020</td>\n",
       "      <td>6658</td>\n",
       "      <td>25325</td>\n",
       "      <td>0.0</td>\n",
       "    </tr>\n",
       "  </tbody>\n",
       "</table>\n",
       "<p>8 rows × 22 columns</p>\n",
       "</div>"
      ],
      "text/plain": [
       "                               Assembly  # contigs (>= 0 bp)  \\\n",
       "names                                                          \n",
       "Megahit_Shakya_Full       final.contigs                25029   \n",
       "SPAdes_Shakya_Full              contigs                28005   \n",
       "MegaHit_Shakya_Subset_50  final.contigs                40294   \n",
       "SPAdes_Shakya_Subset_50         contigs                44943   \n",
       "MegaHit_Shakya_Subset_25  final.contigs                76301   \n",
       "SPAdes_Shakya_Subset_25         contigs                95353   \n",
       "MegaHit_Shakya_Subset_10  final.contigs               108780   \n",
       "SPAdes_Shakya_Subset_10         contigs               175588   \n",
       "\n",
       "                          # contigs (>= 1000 bp)  # contigs (>= 5000 bp)  \\\n",
       "names                                                                      \n",
       "Megahit_Shakya_Full                        14831                    6031   \n",
       "SPAdes_Shakya_Full                         13955                    5455   \n",
       "MegaHit_Shakya_Subset_50                   21154                    6153   \n",
       "SPAdes_Shakya_Subset_50                    19672                    5573   \n",
       "MegaHit_Shakya_Subset_25                   30326                    5529   \n",
       "SPAdes_Shakya_Subset_25                    29638                    5383   \n",
       "MegaHit_Shakya_Subset_10                   24962                    3182   \n",
       "SPAdes_Shakya_Subset_10                    26044                    3110   \n",
       "\n",
       "                          # contigs (>= 10000 bp)  # contigs (>= 25000 bp)  \\\n",
       "names                                                                        \n",
       "Megahit_Shakya_Full                          3462                     1693   \n",
       "SPAdes_Shakya_Full                           3187                     1543   \n",
       "MegaHit_Shakya_Subset_50                     3329                     1502   \n",
       "SPAdes_Shakya_Subset_50                      3131                     1467   \n",
       "MegaHit_Shakya_Subset_25                     2589                      893   \n",
       "SPAdes_Shakya_Subset_25                      2488                      905   \n",
       "MegaHit_Shakya_Subset_10                     1233                      326   \n",
       "SPAdes_Shakya_Subset_10                      1284                      345   \n",
       "\n",
       "                          # contigs (>= 50000 bp)  Total length (>= 0 bp)  \\\n",
       "names                                                                       \n",
       "Megahit_Shakya_Full                           859               203649893   \n",
       "SPAdes_Shakya_Full                            861               200949060   \n",
       "MegaHit_Shakya_Subset_50                      705               198523578   \n",
       "SPAdes_Shakya_Subset_50                       745               197860387   \n",
       "MegaHit_Shakya_Subset_25                      389               182471352   \n",
       "SPAdes_Shakya_Subset_25                       381               187469894   \n",
       "MegaHit_Shakya_Subset_10                      107               127510334   \n",
       "SPAdes_Shakya_Subset_10                       114               149097425   \n",
       "\n",
       "                          Total length (>= 1000 bp)  \\\n",
       "names                                                 \n",
       "Megahit_Shakya_Full                       198135753   \n",
       "SPAdes_Shakya_Full                        195267555   \n",
       "MegaHit_Shakya_Subset_50                  187734386   \n",
       "SPAdes_Shakya_Subset_50                   186428185   \n",
       "MegaHit_Shakya_Subset_25                  157052834   \n",
       "SPAdes_Shakya_Subset_25                   157123594   \n",
       "MegaHit_Shakya_Subset_10                   84162742   \n",
       "SPAdes_Shakya_Subset_10                    86600130   \n",
       "\n",
       "                          Total length (>= 5000 bp)        ...          \\\n",
       "names                                                      ...           \n",
       "Megahit_Shakya_Full                       177197479        ...           \n",
       "SPAdes_Shakya_Full                        174994373        ...           \n",
       "MegaHit_Shakya_Subset_50                  154679774        ...           \n",
       "SPAdes_Shakya_Subset_50                   155475173        ...           \n",
       "MegaHit_Shakya_Subset_25                  106971166        ...           \n",
       "SPAdes_Shakya_Subset_25                   108377446        ...           \n",
       "MegaHit_Shakya_Subset_10                   43820080        ...           \n",
       "SPAdes_Shakya_Subset_10                    44629318        ...           \n",
       "\n",
       "                          Total length (>= 50000 bp)  # contigs  \\\n",
       "names                                                             \n",
       "Megahit_Shakya_Full                        102472583      19841   \n",
       "SPAdes_Shakya_Full                         109622618      18162   \n",
       "MegaHit_Shakya_Subset_50                    79362820      31471   \n",
       "SPAdes_Shakya_Subset_50                     87152748      29080   \n",
       "MegaHit_Shakya_Subset_25                    43343403      54078   \n",
       "SPAdes_Shakya_Subset_25                     46312125      53676   \n",
       "MegaHit_Shakya_Subset_10                     9239419      61521   \n",
       "SPAdes_Shakya_Subset_10                     10228486      66655   \n",
       "\n",
       "                          Largest contig  Total length  GC (%)    N50    N75  \\\n",
       "names                                                                          \n",
       "Megahit_Shakya_Full              1067762     201670522   51.43  51470  13245   \n",
       "SPAdes_Shakya_Full               1599574     198291683   51.49  62753  14848   \n",
       "MegaHit_Shakya_Subset_50         1063575     195102189   51.07  31786   6630   \n",
       "SPAdes_Shakya_Subset_50          1154114     193179362   51.16  40111   7735   \n",
       "MegaHit_Shakya_Subset_25          708009     173832988   50.27   9928   2349   \n",
       "SPAdes_Shakya_Subset_25           726297     174094973   50.30  10506   2372   \n",
       "MegaHit_Shakya_Subset_10          258402     109369857   49.68   2895   1065   \n",
       "SPAdes_Shakya_Subset_10           335357     114498408   49.64   2672   1020   \n",
       "\n",
       "                           L50    L75  # N's per 100 kbp  \n",
       "names                                                     \n",
       "Megahit_Shakya_Full        827   2774                0.0  \n",
       "SPAdes_Shakya_Full         673   2335                0.0  \n",
       "MegaHit_Shakya_Subset_50  1165   4699                0.0  \n",
       "SPAdes_Shakya_Subset_50    957   3853                0.0  \n",
       "MegaHit_Shakya_Subset_25  2612  12592                0.0  \n",
       "SPAdes_Shakya_Subset_25   2357  12018                0.0  \n",
       "MegaHit_Shakya_Subset_10  6091  22892                0.0  \n",
       "SPAdes_Shakya_Subset_10   6658  25325                0.0  \n",
       "\n",
       "[8 rows x 22 columns]"
      ]
     },
     "execution_count": 5,
     "metadata": {},
     "output_type": "execute_result"
    }
   ],
   "source": [
    "#Create names for each of the dataframes\n",
    "new_index= ['Megahit_Shakya_Full', 'SPAdes_Shakya_Full',  'MegaHit_Shakya_Subset_50', 'SPAdes_Shakya_Subset_50', \n",
    "            'MegaHit_Shakya_Subset_25', 'SPAdes_Shakya_Subset_25', 'MegaHit_Shakya_Subset_10', \n",
    "            'SPAdes_Shakya_Subset_10',]\n",
    "\n",
    "#Concatenate all of the dataframes using concatenate \n",
    "frames = [dfA, dfB, dfC, dfD, dfE, dfF, dfG, dfH]\n",
    "result = pd.concat(frames) \n",
    "\n",
    "#Rename the index such that the sample names are in the first column \n",
    "result[\"names\"]= ['Megahit_Shakya_Full', 'SPAdes_Shakya_Full', 'MegaHit_Shakya_Subset_50', 'SPAdes_Shakya_Subset_50',\n",
    "                  'MegaHit_Shakya_Subset_25', 'SPAdes_Shakya_Subset_25', 'MegaHit_Shakya_Subset_10',\n",
    "                  'SPAdes_Shakya_Subset_10']\n",
    "\n",
    "output = result.set_index(\"names\")\n",
    "output"
   ]
  },
  {
   "cell_type": "code",
   "execution_count": 6,
   "metadata": {
    "collapsed": true
   },
   "outputs": [],
   "source": [
    "# Export as a csv\n",
    "output.to_csv('Assembly_stats_comparison.csv')"
   ]
  },
  {
   "cell_type": "code",
   "execution_count": 7,
   "metadata": {
    "collapsed": true
   },
   "outputs": [],
   "source": [
    "import numpy\n",
    "from pylab import *"
   ]
  },
  {
   "cell_type": "code",
   "execution_count": 8,
   "metadata": {},
   "outputs": [
    {
     "name": "stdout",
     "output_type": "stream",
     "text": [
      "Assembly_stats_comparison.csv\r\n",
      "README.md\r\n",
      "bandage_output_megahit_100.png\r\n",
      "\u001b[1m\u001b[34mmegahit_output_podar_metaG_100_quast_report\u001b[m\u001b[m/\r\n",
      "\u001b[1m\u001b[34mmegahit_output_podar_metaG_sub_10_quast_report\u001b[m\u001b[m/\r\n",
      "\u001b[1m\u001b[34mmegahit_output_podar_metaG_sub_25_quast_report\u001b[m\u001b[m/\r\n",
      "\u001b[1m\u001b[34mmegahit_output_podar_metaG_sub_50_quast_report\u001b[m\u001b[m/\r\n",
      "\u001b[1m\u001b[34mmegahit_salmon_counts_podar_100\u001b[m\u001b[m/\r\n",
      "metagenome_assembly_comparison.ipynb\r\n",
      "\u001b[1m\u001b[34mspades_output_podar_metaG_100_quast_report\u001b[m\u001b[m/\r\n",
      "\u001b[1m\u001b[34mspades_output_podar_metaG_50_quast_report\u001b[m\u001b[m/\r\n",
      "\u001b[1m\u001b[34mspades_output_podar_metaG_sub_10_quast_report\u001b[m\u001b[m/\r\n",
      "\u001b[1m\u001b[34mspades_output_podar_metaG_sub_25_quast_report\u001b[m\u001b[m/\r\n",
      "\u001b[1m\u001b[34mspades_salmon_counts_podar_100\u001b[m\u001b[m/\r\n"
     ]
    }
   ],
   "source": [
    "ls"
   ]
  },
  {
   "cell_type": "code",
   "execution_count": 9,
   "metadata": {},
   "outputs": [
    {
     "data": {
      "text/plain": [
       "[<matplotlib.lines.Line2D at 0x1138f59e8>]"
      ]
     },
     "execution_count": 9,
     "metadata": {},
     "output_type": "execute_result"
    },
    {
     "data": {
      "image/png": "[encoded data removed]",
      "text/plain": [
       "<matplotlib.figure.Figure at 0x1125abe48>"
      ]
     },
     "metadata": {},
     "output_type": "display_data"
    }
   ],
   "source": [
    "# Counts from MEGAHIT assembly of Shakya complete mapping to contigs \n",
    "counts1 = [ x.split()[1] for x in open('megahit_salmon_counts_podar_100/SRR606249.quant.counts')]\n",
    "\n",
    "counts1 = [ float(x) for x in counts1[1:] ]\n",
    "counts1.sort(reverse=True)\n",
    "counts1 = numpy.array(counts1)\n",
    "plot(counts1, '*')"
   ]
  },
  {
   "cell_type": "code",
   "execution_count": 10,
   "metadata": {},
   "outputs": [
    {
     "data": {
      "text/plain": [
       "[<matplotlib.lines.Line2D at 0x113727e48>]"
      ]
     },
     "execution_count": 10,
     "metadata": {},
     "output_type": "execute_result"
    },
    {
     "data": {
      "image/png": "[encoded data removed]",
      "text/plain": [
       "<matplotlib.figure.Figure at 0x1137a9a58>"
      ]
     },
     "metadata": {},
     "output_type": "display_data"
    }
   ],
   "source": [
    "# Counts from SPAdes assembly of Shakya complete mapping to contigs \n",
    "counts2 = [ x.split()[1] for x in open('spades_salmon_counts_podar_100/SRR606249.quant.counts')]\n",
    "counts2.sort(reverse=True)\n",
    "counts2 = [ float(x) for x in counts1[1:] ]\n",
    "counts2 = numpy.array(counts1)\n",
    "plot(counts2, '*')"
   ]
  },
  {
   "cell_type": "code",
   "execution_count": 11,
   "metadata": {},
   "outputs": [
    {
     "data": {
      "image/png": "[encoded data removed]",
      "text/plain": [
       "<matplotlib.figure.Figure at 0x1137f0c50>"
      ]
     },
     "metadata": {},
     "output_type": "display_data"
    }
   ],
   "source": [
    "plt.figure()\n",
    "\n",
    "# sp1\n",
    "plt.subplot(121)\n",
    "\n",
    "counts1 = [ x.split()[1] for x in open('megahit_salmon_counts_podar_100/SRR606249.quant.counts')]\n",
    "\n",
    "counts1 = [ float(x) for x in counts1[1:] ]\n",
    "counts1.sort(reverse=True)\n",
    "counts1 = numpy.array(counts1)\n",
    "plot(counts1, '*')\n",
    "\n",
    "# sp2\n",
    "plt.subplot(122)\n",
    "# Counts from MEGAHIT assembly of Shakya complete mapping to contigs \n",
    "counts2 = [ x.split()[1] for x in open('megahit_salmon_counts_podar_100/SRR606249.quant.counts')]\n",
    "\n",
    "counts2 = [ float(x) for x in counts1[1:] ]\n",
    "counts2.sort(reverse=True)\n",
    "counts2 = numpy.array(counts1)\n",
    "plot(counts2, '*')\n",
    "\n",
    "plt.show()"
   ]
  },
  {
   "cell_type": "code",
   "execution_count": 12,
   "metadata": {},
   "outputs": [
    {
     "data": {
      "text/plain": [
       "[<matplotlib.lines.Line2D at 0x1162bba90>]"
      ]
     },
     "execution_count": 12,
     "metadata": {},
     "output_type": "execute_result"
    },
    {
     "data": {
      "image/png": "[encoded data removed]",
      "text/plain": [
       "<matplotlib.figure.Figure at 0x117a100f0>"
      ]
     },
     "metadata": {},
     "output_type": "display_data"
    }
   ],
   "source": [
    "counts1 = [ x.split()[1] for x in open('megahit_salmon_counts_podar_100/SRR606249.quant.counts')]\n",
    "counts1 = [ float(x) for x in counts1[1:] ]\n",
    "counts1 = numpy.array(counts1)\n",
    "\n",
    "counts2 = [ x.split()[1] for x in open('spades_salmon_counts_podar_100/SRR606249.quant.counts')]\n",
    "counts2 = [ float(x) for x in counts1[1:] ]\n",
    "counts2 = numpy.array(counts1)\n",
    "plot(counts1, counts2, '*')"
   ]
  },
  {
   "cell_type": "code",
   "execution_count": null,
   "metadata": {
    "collapsed": true
   },
   "outputs": [],
   "source": []
  }
 ],
 "metadata": {
  "anaconda-cloud": {},
  "kernelspec": {
   "display_name": "Python 3",
   "language": "python",
   "name": "python3"
  },
  "language_info": {
   "codemirror_mode": {
    "name": "ipython",
    "version": 3
   },
   "file_extension": ".py",
   "mimetype": "text/x-python",
   "name": "python",
   "nbconvert_exporter": "python",
   "pygments_lexer": "ipython3",
   "version": "3.5.2"
  }
 },
 "nbformat": 4,
 "nbformat_minor": 1
}
